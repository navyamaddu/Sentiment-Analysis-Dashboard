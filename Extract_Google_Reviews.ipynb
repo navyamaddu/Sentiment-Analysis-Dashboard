{
 "cells": [
  {
   "cell_type": "code",
   "execution_count": null,
   "metadata": {},
   "outputs": [],
   "source": [
    "### google play reviews\n",
    "import json\n",
    "import re\n",
    "import pandas as pd\n",
    "from tqdm import tqdm\n",
    "\n",
    "import seaborn as sns\n",
    "import matplotlib.pyplot as plt\n",
    "\n",
    "from pygments import highlight\n",
    "from pygments.lexers import JsonLexer\n",
    "from pygments.formatters import TerminalFormatter\n",
    "\n",
    "from google_play_scraper import Sort, reviews, app\n",
    "\n",
    "%matplotlib inline\n",
    "%config InlineBackend.figure_format='retina'\n",
    "\n",
    "sns.set(style='whitegrid', palette='muted', font_scale=1.2)"
   ]
  },
  {
   "cell_type": "code",
   "execution_count": null,
   "metadata": {},
   "outputs": [],
   "source": [
    "app_packages = [\n",
    "  'com.navyfederal.android'\n",
    "]"
   ]
  },
  {
   "cell_type": "code",
   "execution_count": null,
   "metadata": {},
   "outputs": [],
   "source": [
    "app_infos = []\n",
    "\n",
    "for ap in tqdm(app_packages):\n",
    "    info = app(ap, lang='en', country='us')\n",
    "    #del info['comments']\n",
    "    app_infos.append(info)\n"
   ]
  },
  {
   "cell_type": "code",
   "execution_count": null,
   "metadata": {},
   "outputs": [],
   "source": [
    "app_reviews = []\n",
    "\n",
    "for ap in tqdm(app_packages):\n",
    "    for score in list(range(1, 6)):\n",
    "        rvs, _ = reviews(ap,lang='en',country='us',count= 20000000,filter_score_with=score)\n",
    "        print(rvs)\n",
    "        for r in rvs:\n",
    "            reviewId = r.get('reviewId')\n",
    "            userName = r.get('userName')\n",
    "            content = str(r.get('content'))\n",
    "            content = re.sub(r'[^a-zA-Z0-9]',' ',content)\n",
    "            score = r.get('score')\n",
    "            thumbsUpCount = r.get('thumbsUpCount')\n",
    "            at = r.get('at')\n",
    "            replyContent = r.get('replyContent')\n",
    "            if replyContent is None:\n",
    "                replyContent =''\n",
    "            else:\n",
    "                replyContent = re.sub(r'[^a-zA-Z0-9]',' ',replyContent)\n",
    "            app_reviews.append((reviewId, userName, content, score, thumbsUpCount, at, replyContent))"
   ]
  },
  {
   "cell_type": "code",
   "execution_count": null,
   "metadata": {},
   "outputs": [],
   "source": [
    "print(len(app_reviews))"
   ]
  },
  {
   "cell_type": "code",
   "execution_count": null,
   "metadata": {},
   "outputs": [],
   "source": [
    "# app_reviews = []\n",
    "\n",
    "# for ap in tqdm(app_packages):\n",
    "#     for score in list(range(1, 6)):\n",
    "#         for sort_order in [Sort.MOST_RELEVANT, Sort.NEWEST]:\n",
    "#             rvs, _ = reviews(ap,lang='en',country='us',sort=sort_order,count= 200 if score == 3 else 100,filter_score_with=score)\n",
    "#             for r in rvs:\n",
    "#                 r['sortOrder'] = 'most_relevant' if sort_order == Sort.MOST_RELEVANT else 'newest'\n",
    "#                 r['appId'] = ap\n",
    "#                 app_reviews.extend(rvs)\n",
    "                "
   ]
  },
  {
   "cell_type": "code",
   "execution_count": null,
   "metadata": {},
   "outputs": [],
   "source": [
    "app_reviews_df = pd.DataFrame(app_reviews, columns=['reviewId', 'userName', 'content', 'score', 'thumbsUpCount', 'at', 'replyContent'])\n",
    "\n"
   ]
  },
  {
   "cell_type": "code",
   "execution_count": null,
   "metadata": {},
   "outputs": [],
   "source": [
    "def removeNone(app_reviews_df):\n",
    "    mask = app_reviews_df.applymap(lambda x: x is None)\n",
    "    cols = app_reviews_df.columns[(mask).any()]\n",
    "    for col in app_reviews_df[cols]:\n",
    "        app_reviews_df.loc[mask[col], col] = ''\n",
    "    return app_reviews_df\n",
    "\n",
    "app_reviews_df = removeNone(app_reviews_df)"
   ]
  },
  {
   "cell_type": "code",
   "execution_count": null,
   "metadata": {},
   "outputs": [],
   "source": [
    "def whitespace_remover(dataframe):\n",
    "    \n",
    "    # iterating over the columns\n",
    "    for i in dataframe.columns:\n",
    "          \n",
    "        # checking datatype of each columns\n",
    "        if dataframe[i].dtype == 'object':\n",
    "              \n",
    "            # applying strip function on column\n",
    "            dataframe[i] = dataframe[i].map(str.strip)\n",
    "        else:\n",
    "              \n",
    "            # if condn. is False then it will do nothing.\n",
    "            pass\n",
    "    return dataframe\n",
    "  \n",
    "# applying whitespace_remover function on dataframe\n",
    "app_reviews_df = whitespace_remover(app_reviews_df)\n",
    "  \n",
    "# printing dataframe\n",
    "display(app_reviews_df)"
   ]
  },
  {
   "cell_type": "code",
   "execution_count": null,
   "metadata": {},
   "outputs": [],
   "source": [
    "import glob\n",
    "files_present = glob.glob('/Volumes/Navya/UB/navyfederal/Reviews/google_reviews.csv')\n",
    "print(files_present)"
   ]
  },
  {
   "cell_type": "code",
   "execution_count": null,
   "metadata": {},
   "outputs": [],
   "source": [
    "if not files_present:\n",
    "    app_reviews_df.to_csv('/Volumes/Navya/UB/navyfederal/Reviews/google_reviews.csv', index=None, header=True)\n",
    "else:\n",
    "    print(\"File already Exists!!!\")"
   ]
  }
 ],
 "metadata": {
  "kernelspec": {
   "display_name": "Python 3",
   "language": "python",
   "name": "python3"
  },
  "language_info": {
   "codemirror_mode": {
    "name": "ipython",
    "version": 3
   },
   "file_extension": ".py",
   "mimetype": "text/x-python",
   "name": "python",
   "nbconvert_exporter": "python",
   "pygments_lexer": "ipython3",
   "version": "3.8.5"
  }
 },
 "nbformat": 4,
 "nbformat_minor": 4
}
