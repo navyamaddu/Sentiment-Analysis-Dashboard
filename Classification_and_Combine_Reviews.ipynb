{
 "cells": [
  {
   "cell_type": "code",
   "execution_count": null,
   "metadata": {},
   "outputs": [],
   "source": [
    "import pandas as pd\n",
    "import matplotlib\n",
    "import nltk\n",
    "from nltk.sentiment.vader import SentimentIntensityAnalyzer\n",
    "from nltk.stem import SnowballStemmer\n",
    "from nltk.sentiment.vader import SentimentIntensityAnalyzer\n",
    "import nltk\n",
    "nltk.download('vader_lexicon')"
   ]
  },
  {
   "cell_type": "code",
   "execution_count": null,
   "metadata": {},
   "outputs": [],
   "source": [
    "google_reviews = pd.read_csv('/Volumes/Navya/UB/navyfederal/Reviews/google_reviews.csv', engine='python')\n",
    "iOS_reviews = pd.read_csv('/Volumes/Navya/UB/navyfederal/Reviews/iOS_reviews.csv', engine='python')"
   ]
  },
  {
   "cell_type": "code",
   "execution_count": null,
   "metadata": {},
   "outputs": [],
   "source": [
    "allAppReviews = pd.concat([google_reviews,iOS_reviews])"
   ]
  },
  {
   "cell_type": "code",
   "execution_count": null,
   "metadata": {},
   "outputs": [],
   "source": [
    "allAppReviews['at'] = pd.to_datetime(allAppReviews['at'])"
   ]
  },
  {
   "cell_type": "code",
   "execution_count": null,
   "metadata": {},
   "outputs": [],
   "source": [
    "import glob\n",
    "files_present = glob.glob('/Volumes/Navya/UB/navyfederal/Reviews/All_Reviews.csv')\n",
    "\n",
    "\n",
    "if not files_present:\n",
    "    allAppReviews.to_csv('/Volumes/Navya/UB/navyfederal/Reviews/All_Reviews.csv', index=None, header=True)\n",
    "else:\n",
    "    print(\"File already Exists!!!\")"
   ]
  },
  {
   "cell_type": "code",
   "execution_count": null,
   "metadata": {},
   "outputs": [],
   "source": [
    "all_reviews = pd.read_csv('/Volumes/Navya/UB/navyfederal/Reviews/All_Reviews.csv', engine='python')"
   ]
  },
  {
   "cell_type": "code",
   "execution_count": null,
   "metadata": {},
   "outputs": [],
   "source": [
    "all_reviews.dtypes"
   ]
  },
  {
   "cell_type": "code",
   "execution_count": null,
   "metadata": {},
   "outputs": [],
   "source": [
    "review_neutral_list = []\n",
    "review_negative_list = []\n",
    "review_positive_list = []\n",
    "finalResult = []\n",
    "replySentiment =''\n",
    "reviewSentiment =''\n",
    "reply_neutral_list = []\n",
    "reply_negative_list = []\n",
    "reply_positive_list = []\n",
    "\n",
    "for each in all_reviews.itertuples():\n",
    "    reviewScore = SentimentIntensityAnalyzer().polarity_scores(str(each.content))\n",
    "    replyScore = SentimentIntensityAnalyzer().polarity_scores(str(each.replyContent))\n",
    "    review_neg = reviewScore['neg']\n",
    "    review_neu = reviewScore['neu']\n",
    "    review_pos = reviewScore['pos']\n",
    "    review_comp = reviewScore['compound']\n",
    "    \n",
    "    reply_neg = replyScore['neg']\n",
    "    reply_neu = replyScore['neu']\n",
    "    reply_pos = replyScore['pos']\n",
    "    reply_comp = replyScore['compound']\n",
    " \n",
    "    if review_neg > review_pos: #and neg>neu:\n",
    "        #review_negative_list.append(each.content)\n",
    "        reviewSentiment ='negative'\n",
    "    elif review_pos > review_neg: #and pos>neu:\n",
    "        #review_positive_list.append(each.content)\n",
    "        reviewSentiment ='positive'\n",
    "    elif review_neg == review_pos: #and neu > neg:\n",
    "        #review_neutral_list.append(each.content)\n",
    "        reviewSentiment ='neutral'\n",
    "    else:\n",
    "        reviewSentiment =''\n",
    "        \n",
    "    if reply_neg > reply_pos: #and neg>neu:\n",
    "        #reply_negative_list.append(each.replyContent)\n",
    "        replySentiment ='negative'\n",
    "    elif reply_pos > reply_neg: #and pos>neu:\n",
    "        #reply_positive_list.append(each.replyContent)\n",
    "        replySentiment ='positive'\n",
    "    elif reply_neg == reply_pos: #and neu > neg:\n",
    "        #reply_neutral_list.append(each.replyContent)\n",
    "        replySentiment ='neutral'\n",
    "    else:\n",
    "        replySentiment =''\n",
    "    \n",
    "    finalResult.append((each.reviewId,review_neg,review_pos,review_neu,review_comp,reviewSentiment,reply_neg,reply_pos,reply_neu,reply_comp,replySentiment))\n",
    "    "
   ]
  },
  {
   "cell_type": "code",
   "execution_count": null,
   "metadata": {},
   "outputs": [],
   "source": [
    "columnNames = ['reviewId',\"Review_Neg\",\"Review_Pos\",\"Review_Neu\",\"Review_Comp\",\"Review_Sentiment\",\"Reply_Neg\",\"Reply_Pos\",\"Reply_Neu\",\"Reply_Comp\",\"Reply_Sentiment\"]\n"
   ]
  },
  {
   "cell_type": "code",
   "execution_count": null,
   "metadata": {},
   "outputs": [],
   "source": [
    "import glob\n",
    "files_present = glob.glob('/Volumes/Navya/UB/navyfederal/Reviews/classifiedReviews_All.csv')\n",
    "print(files_present)\n",
    "\n",
    "if not files_present:\n",
    "    classifiedAllSDF = pd.DataFrame(finalResult,columns=columnNames)\n",
    "    classifiedAllSDF.to_csv('/Volumes/Navya/UB/navyfederal/Reviews/classifiedReviews_All.csv', index=None, header=True)\n",
    "\n",
    "else:\n",
    "    print(\"File already Exists!!!\")"
   ]
  },
  {
   "cell_type": "code",
   "execution_count": null,
   "metadata": {},
   "outputs": [],
   "source": [
    "combinedDFwithSentiment = pd.merge(all_reviews,classifiedAllSDF, on='reviewId', how='outer')\n"
   ]
  },
  {
   "cell_type": "code",
   "execution_count": null,
   "metadata": {},
   "outputs": [],
   "source": [
    "import glob\n",
    "files_present = glob.glob('/Volumes/Navya/UB/navyfederal/Reviews/FinalDataSet_PowerBI.csv')\n",
    "print(files_present)\n",
    "\n",
    "if not files_present:\n",
    "    combinedDFwithSentiment.to_csv('/Volumes/Navya/UB/navyfederal/Reviews/FinalDataSet_PowerBI.csv', index=None, header=True)\n",
    "\n",
    "else:\n",
    "    print(\"File already Exists!!!\")"
   ]
  }
 ],
 "metadata": {
  "kernelspec": {
   "display_name": "Python 3",
   "language": "python",
   "name": "python3"
  },
  "language_info": {
   "codemirror_mode": {
    "name": "ipython",
    "version": 3
   },
   "file_extension": ".py",
   "mimetype": "text/x-python",
   "name": "python",
   "nbconvert_exporter": "python",
   "pygments_lexer": "ipython3",
   "version": "3.8.5"
  }
 },
 "nbformat": 4,
 "nbformat_minor": 4
}
