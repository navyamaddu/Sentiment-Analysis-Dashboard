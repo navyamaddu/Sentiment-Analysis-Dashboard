{
 "cells": [
  {
   "cell_type": "code",
   "execution_count": null,
   "metadata": {},
   "outputs": [],
   "source": [
    "import pandas as pd\n",
    "import numpy as np\n",
    "from app_store_scraper import AppStore\n",
    "from pprint import pprint"
   ]
  },
  {
   "cell_type": "code",
   "execution_count": null,
   "metadata": {},
   "outputs": [],
   "source": [
    "navy_federal = AppStore(country=\"us\", app_name=\"Navy Federal Credit Union\")\n",
    "navy_federal.review(how_many=100000)\n",
    "\n",
    "pprint(navy_federal.reviews)\n",
    "#pprint(navy_federal.reviews_count)"
   ]
  },
  {
   "cell_type": "code",
   "execution_count": null,
   "metadata": {},
   "outputs": [],
   "source": [
    "import re\n",
    "count =1\n",
    "app_reviews=[]\n",
    "for r in navy_federal.reviews:\n",
    "    reviewId = count\n",
    "    userName = r.get('userName')\n",
    "    content = r.get('review').replace('\\n',\"\").replace('\\t',\"\").strip()\n",
    "    content = re.sub(r'[^a-zA-Z0-9]',' ',content)\n",
    "    score = r.get('rating')\n",
    "    thumbsUpCount = 0\n",
    "    at = r.get('date')\n",
    "    if 'developerResponse' in r:\n",
    "        replyContent = r.get('developerResponse').get('body').replace('\\n',\"\").replace('\\t',\"\").strip()\n",
    "        replyContent = re.sub(r'[^a-zA-Z0-9]',' ',replyContent)\n",
    "    else:\n",
    "        replyContent =''\n",
    "    app_reviews.append((reviewId, userName, content, score, thumbsUpCount, at, replyContent))\n",
    "    count=count+1"
   ]
  },
  {
   "cell_type": "code",
   "execution_count": null,
   "metadata": {},
   "outputs": [],
   "source": [
    "print(len(app_reviews))"
   ]
  },
  {
   "cell_type": "code",
   "execution_count": null,
   "metadata": {},
   "outputs": [],
   "source": [
    "app_reviews_df = pd.DataFrame(app_reviews, columns=['reviewId', 'userName', 'content', 'score', 'thumbsUpCount', 'at', 'replyContent'])\n",
    "\n"
   ]
  },
  {
   "cell_type": "code",
   "execution_count": null,
   "metadata": {},
   "outputs": [],
   "source": [
    "def removeNone(app_reviews_df):\n",
    "    mask = app_reviews_df.applymap(lambda x: x is None)\n",
    "    cols = app_reviews_df.columns[(mask).any()]\n",
    "    for col in app_reviews_df[cols]:\n",
    "        app_reviews_df.loc[mask[col], col] = ''\n",
    "    return app_reviews_df\n",
    "\n",
    "app_reviews_df = removeNone(app_reviews_df)"
   ]
  },
  {
   "cell_type": "code",
   "execution_count": null,
   "metadata": {},
   "outputs": [],
   "source": [
    "def whitespace_remover(dataframe):\n",
    "    \n",
    "    # iterating over the columns\n",
    "    for i in dataframe.columns:\n",
    "          \n",
    "        # checking datatype of each columns\n",
    "        if dataframe[i].dtype == 'object':\n",
    "              \n",
    "            # applying strip function on column\n",
    "            dataframe[i] = dataframe[i].map(str.strip)\n",
    "        else:\n",
    "              \n",
    "            # if condn. is False then it will do nothing.\n",
    "            pass\n",
    "    return dataframe\n",
    "  \n",
    "# applying whitespace_remover function on dataframe\n",
    "app_reviews_df = whitespace_remover(app_reviews_df)\n",
    "  \n",
    "# printing dataframe\n",
    "#display(app_reviews_df)"
   ]
  },
  {
   "cell_type": "code",
   "execution_count": null,
   "metadata": {},
   "outputs": [],
   "source": [
    "import glob\n",
    "files_present = glob.glob('/Volumes/Navya/UB/navyfederal/Reviews/iOS_reviews.csv')\n",
    "print(files_present)"
   ]
  },
  {
   "cell_type": "code",
   "execution_count": null,
   "metadata": {},
   "outputs": [],
   "source": [
    "if not files_present:\n",
    "    app_reviews_df.to_csv('/Volumes/Navya/UB/navyfederal/Reviews/iOS_reviews.csv', index=None, header=True)\n",
    "else:\n",
    "    print(\"File already Exists!!!\")"
   ]
  }
 ],
 "metadata": {
  "kernelspec": {
   "display_name": "Python 3",
   "language": "python",
   "name": "python3"
  },
  "language_info": {
   "codemirror_mode": {
    "name": "ipython",
    "version": 3
   },
   "file_extension": ".py",
   "mimetype": "text/x-python",
   "name": "python",
   "nbconvert_exporter": "python",
   "pygments_lexer": "ipython3",
   "version": "3.8.5"
  }
 },
 "nbformat": 4,
 "nbformat_minor": 4
}
